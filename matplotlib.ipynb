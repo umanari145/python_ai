{
  "nbformat": 4,
  "nbformat_minor": 0,
  "metadata": {
    "colab": {
      "provenance": [],
      "authorship_tag": "ABX9TyMSS5O2/e4tbowzcyOdKZl7",
      "include_colab_link": true
    },
    "kernelspec": {
      "name": "python3",
      "display_name": "Python 3"
    },
    "language_info": {
      "name": "python"
    }
  },
  "cells": [
    {
      "cell_type": "markdown",
      "metadata": {
        "id": "view-in-github",
        "colab_type": "text"
      },
      "source": [
        "<a href=\"https://colab.research.google.com/github/umanari145/python_ai/blob/main/matplotlib.ipynb\" target=\"_parent\"><img src=\"https://colab.research.google.com/assets/colab-badge.svg\" alt=\"Open In Colab\"/></a>"
      ]
    },
    {
      "cell_type": "code",
      "execution_count": null,
      "metadata": {
        "id": "ymKi1yLUjZIU"
      },
      "outputs": [],
      "source": [
        "1 "
      ]
    },
    {
      "cell_type": "markdown",
      "source": [
        "ただ単にx,yにplotさせる<br>\n",
        "横軸に'x'、縦軸に'y'というラベルを表示し、タイトルに'サンプル曲線'といれてください。<br>\n",
        "散布図の作成と表示\n",
        "基本的なヒストグラムの出力、grid線と\n",
        "箱ひげ図の出力\n",
        "ヒートマップ図の出力"
      ],
      "metadata": {
        "id": "2E770gM7kbZe"
      }
    }
  ]
}