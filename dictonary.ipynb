{
  "nbformat": 4,
  "nbformat_minor": 0,
  "metadata": {
    "colab": {
      "provenance": [],
      "authorship_tag": "ABX9TyPfcN6iE93OYmfSuIdz5/VK",
      "include_colab_link": true
    },
    "kernelspec": {
      "name": "python3",
      "display_name": "Python 3"
    },
    "language_info": {
      "name": "python"
    }
  },
  "cells": [
    {
      "cell_type": "markdown",
      "metadata": {
        "id": "view-in-github",
        "colab_type": "text"
      },
      "source": [
        "<a href=\"https://colab.research.google.com/github/umanari145/python_ai/blob/main/dictonary.ipynb\" target=\"_parent\"><img src=\"https://colab.research.google.com/assets/colab-badge.svg\" alt=\"Open In Colab\"/></a>"
      ]
    },
    {
      "cell_type": "markdown",
      "source": [
        "name:山田太郎, email:yamada@gmail.com, age:30 という辞書型データをmemberの中に入れてください。<br>\n",
        "for文をつかって1で定義したmemberのkey,valueを出力してください。<br>\n",
        "memberのnameだけを出力してください。<br>\n",
        "memberにhobby:baseballを追加してください。<br>\n",
        "memberのemailを除去してください。<br>\n",
        "memberの全要素を初期化してください。<br>\n",
        "以下のデータをディクショナリとリストの形で定義してください。\n",
        "name\tage\tgender\n",
        "山田\t19\t男\n",
        "鈴木\t22\t女\n",
        "田中\t18\t男\n",
        "渡辺\t25\t女\n",
        "佐藤\t33\t男\n",
        "\n",
        "member_listをループさせ、20歳未満の人には〜さんは未成年なのでまだお酒は飲めません。\n",
        "20歳以上の人には〜さん飲み過ぎには注意しましょう。と全員表示してください。\n",
        "\n",
        "\n",
        "sample_listで定義されたリストの'a'を'x'に置き換えてください。<br>\n",
        "sample_listの型をtype文をつかって判定してください。<br>\n",
        "sample_listの0番目の要素の型をtype文を使って判定してください。<br>\n",
        " sample_listの要素数を判定してください。<br>\n",
        " 1から10までの要素をrangeをつかってsample_num_listにlist要素として格納してください。<br>\n",
        " member_list = [ [0, 1, 2], [3, 4, 5], [6, 7, 8] ] で定義された要素のうち7にあたる要出力してください。<br>\n",
        "member_listに[9,10,11]にあたる要素を挿入してください。"
      ],
      "metadata": {
        "id": "WQZ89mDc7zvL"
      }
    }
  ]
}