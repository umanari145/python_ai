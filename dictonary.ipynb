{
  "nbformat": 4,
  "nbformat_minor": 0,
  "metadata": {
    "colab": {
      "provenance": [],
      "authorship_tag": "ABX9TyMt2lq6+iJmUelcPYd+/YDL",
      "include_colab_link": true
    },
    "kernelspec": {
      "name": "python3",
      "display_name": "Python 3"
    },
    "language_info": {
      "name": "python"
    }
  },
  "cells": [
    {
      "cell_type": "markdown",
      "metadata": {
        "id": "view-in-github",
        "colab_type": "text"
      },
      "source": [
        "<a href=\"https://colab.research.google.com/github/umanari145/python_ai/blob/main/dictonary.ipynb\" target=\"_parent\"><img src=\"https://colab.research.google.com/assets/colab-badge.svg\" alt=\"Open In Colab\"/></a>"
      ]
    },
    {
      "cell_type": "markdown",
      "source": [
        "1 name:山田太郎, email:yamada@gmail.com, age:30 という辞書型データをmemberの中に入れてください。<br>\n",
        "2 for文をつかって1で定義したmemberのkey,valueを出力してください。<br>\n",
        "3 memberのnameだけを出力してください。<br>\n",
        "4 memberにhobby:baseballを追加してください。<br>\n",
        "5 memberのemailを除去してください。<br>\n",
        "6 memberの全要素を初期化してください。<br>\n",
        "7 以下のデータをディクショナリとリスト(member_list)の形で定義してください。\n",
        "\n",
        "|  name |  age  | gender |\n",
        "| ---- | ---- | ---- |\n",
        "| 山田|19|男|\n",
        "| 鈴木|22|女| \n",
        "| 田中|18|男| \n",
        "| 渡辺|25|女| \n",
        "| 佐藤|33|男| \n",
        "\n",
        "\n",
        "8 member_listをループさせ、20歳未満の人には〜さんは20歳未満なのでまだお酒は飲めません。\n",
        "20歳以上の人には〜さん飲み過ぎには注意しましょう。と全員表示してください。\n",
        "\n",
        "9 member_listの中の\n",
        "□の中をプログラムで計算して値を出し、以下のように表示してください。\t(年齢は小数第2を)\n",
        "男性メンバー　□人(平均年齢□歳)\t\n",
        "女性メンバー　□人(平均年齢□歳)\t"
      ],
      "metadata": {
        "id": "WQZ89mDc7zvL"
      }
    },
    {
      "cell_type": "code",
      "source": [
        "#1 \n",
        "member = {\n",
        "    \"name\": \"山田太郎\",\n",
        "    \"email\": \"yamada@gmail.com\",\n",
        "    \"age\": 30,\n",
        "};\n",
        "\n",
        "# print(member)\n",
        "\n",
        "#2 \n",
        "for key, value in member.items():\n",
        "    print(key)\n",
        "    print(value)\n",
        "\n",
        "#3\n",
        "print(member[\"name\"])\n",
        "\n",
        "#4\n",
        "member[\"hobby\"] = \"baseball\";\n",
        "#print(member)\n",
        "\n",
        "#5\n",
        "del member[\"email\"]\n",
        "\n",
        "#6\n",
        "member.clear();\n",
        "\n",
        "#7\n",
        "member_list = [\n",
        "    {\n",
        "      \"name\": \"山田\",\n",
        "      \"age\": 17,\n",
        "      \"gender\": \"男\"\n",
        "    },\n",
        "    {\n",
        "      \"name\": \"鈴木\",\n",
        "      \"age\": 22,\n",
        "      \"gender\": \"女\"\n",
        "    },\n",
        "    {\n",
        "      \"name\": \"田中\",\n",
        "      \"age\": 18,\n",
        "      \"gender\": \"男\"\n",
        "    },\n",
        "    {\n",
        "      \"name\": \"渡辺\",\n",
        "      \"age\": 25,\n",
        "      \"gender\": \"女\"\n",
        "    },\n",
        "    {\n",
        "      \"name\": \"佐藤\",\n",
        "      \"age\": 34,\n",
        "      \"gender\": \"男\"\n",
        "    },\n",
        "]\n",
        "\n",
        "#8\n",
        "for member in member_list:\n",
        "  if member[\"age\"] < 20:\n",
        "    print(member[\"name\"] + \"さんは20歳未満なのでまだお酒は飲めません。\")\n",
        "  else:\n",
        "    print(member[\"name\"] + \"さんは飲み過ぎには注意しましょう。\")\n",
        "#9\n",
        "man_cnt = 0\n",
        "man_age = 0\n",
        "woman_cnt = 0\n",
        "woman_age = 0\n",
        "for member in member_list:\n",
        "  if member[\"gender\"] == \"男\":\n",
        "      man_cnt += 1\n",
        "      man_age += member[\"age\"]\n",
        "  else:\n",
        "      woman_cnt += 1\n",
        "      woman_age += member[\"age\"]\n",
        "print(\"男性:\" + str(man_cnt) + \"人　平均\" + str(man_age/man_cnt) + \"才\" )\n",
        "print(\"女性:\" + str(woman_cnt) + \"人　平均\" + str(woman_age/woman_cnt) + \"才\" )\n"
      ],
      "metadata": {
        "colab": {
          "base_uri": "https://localhost:8080/"
        },
        "id": "IvaRRizok70d",
        "outputId": "30430820-7d1d-4880-afef-c8c6790e7066"
      },
      "execution_count": 19,
      "outputs": [
        {
          "output_type": "stream",
          "name": "stdout",
          "text": [
            "name\n",
            "山田太郎\n",
            "email\n",
            "yamada@gmail.com\n",
            "age\n",
            "30\n",
            "山田太郎\n",
            "山田さんは20歳未満なのでまだお酒は飲めません。\n",
            "鈴木さんは飲み過ぎには注意しましょう。\n",
            "田中さんは20歳未満なのでまだお酒は飲めません。\n",
            "渡辺さんは飲み過ぎには注意しましょう。\n",
            "佐藤さんは飲み過ぎには注意しましょう。\n",
            "男性:3人　平均23.0才\n",
            "女性:2人　平均23.5才\n"
          ]
        }
      ]
    }
  ]
}