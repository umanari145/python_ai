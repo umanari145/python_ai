{
  "nbformat": 4,
  "nbformat_minor": 0,
  "metadata": {
    "colab": {
      "provenance": [],
      "authorship_tag": "ABX9TyPLGMMvca9HaeTSYr9Ypxfk",
      "include_colab_link": true
    },
    "kernelspec": {
      "name": "python3",
      "display_name": "Python 3"
    },
    "language_info": {
      "name": "python"
    }
  },
  "cells": [
    {
      "cell_type": "markdown",
      "metadata": {
        "id": "view-in-github",
        "colab_type": "text"
      },
      "source": [
        "<a href=\"https://colab.research.google.com/github/umanari145/python_ai/blob/main/variable.ipynb\" target=\"_parent\"><img src=\"https://colab.research.google.com/assets/colab-badge.svg\" alt=\"Open In Colab\"/></a>"
      ]
    },
    {
      "cell_type": "markdown",
      "source": [
        "**変数について**"
      ],
      "metadata": {
        "id": "EmGjR2XR7Ljo"
      }
    },
    {
      "cell_type": "markdown",
      "source": [],
      "metadata": {
        "id": "kAhZV7Ue8YuZ"
      }
    },
    {
      "cell_type": "markdown",
      "source": [
        "1 「Hello  world!」と表示してください。 <br>\n",
        "2 aに「Ueno」、bに「Varista」、をいれて「UenoVarista」と表示してください。<br>\n",
        "3 schoolにUenoVaristaを代入して、type構文を使って、型を判定し、print文で出力してください。<br>\n",
        "4 xに8を代入し、３を足し、2でわった数を出力してください。<br>\n",
        "5 xに10を代入し、3でわった数をint型にして出力してください。<br>\n",
        "6 0.1をformat構文を使って小数点第5桁まで表示してください。<br>\n",
        "7 scoreが80以上なら「よくできました。」60以上なら「あと一歩です。」それ以外なら「頑張りましょう。」という条件分岐を作成し、scoreに80を代入して、画面に出力してください。<br>\n",
        "8 sample_id、sample_nameが両方空文字でない場合、「ＯＫです。」、そうではない場合には「未入力があります。」と表示してください。<br>\n",
        "9 formatメソッドを使って0うめ計10桁で152(0000000152)というを表示してください。<br>\n",
        "10 現在時刻をstrftimeを使って例のように表示してください。例：2022年08月04日09時04分<br>\n",
        "11 変数zipを正規表現で郵便番号(ハイフンなし)かどうかを正規表現モジュールreを使ってチェックし、正しければOK、正しくなければNGと表示してください。またzipに'123-4567'を代入し、結果を表示してください。<br>\n",
        "12 aが偶数ならresultにeven,奇数ならoddを代入する条件文を三項演算子で表現してください。<br>\n",
        "\n",
        "13 下記の[a]でOKが表示されるものを全て選びなさい。<br>\n",
        "a:0 b:'0' c:False d:'' e:None f:全てNGになる\n",
        "```\n",
        "var1 = [a]\n",
        "if var1:\n",
        "    print('OK')\n",
        "else:\n",
        "    print('NG')\n",
        "```\n",
        "\n",
        "14 Pythonで、次のプログラムを実行した出力結果で2になるものを全て選びなさい。<br>\n",
        "a: `print(1 + 1)`<br>\n",
        "b: `print('1' + '1')`<br>\n",
        "c: `print(float('1') + int('1'))`<br>\n",
        "d: `print(int(True) + int(True))`<br>\n",
        "e: `print('1' * 2)`<br>\n",
        "\n"
      ],
      "metadata": {
        "id": "3wZQC1T_VY8D"
      }
    },
    {
      "cell_type": "code",
      "source": [
        "#Answer\n",
        "\n",
        "#1 \n",
        "print('Hello  world!')\n",
        "\n",
        "# \n",
        "a='Ueno' \n",
        "b='Varista'\n",
        "print(a + b)\n",
        "\n",
        "#3 \n",
        "school = 'UenoVarista'\n",
        "print(type(school))\n",
        "\n",
        "#4\n",
        "x = 8\n",
        "print((x+3)/2)\n",
        "\n",
        "#5\n",
        "x = 10\n",
        "print(int(10/3))\n",
        "\n",
        "#6\n",
        "print('{:.5f}'.format(0.1))\n",
        "\n",
        "#7\n",
        "score = 80\n",
        "if score >= 80:\n",
        "    print('よくできました。')\n",
        "elif score >= 60:\n",
        "    print('あと一歩です。')\n",
        "else:\n",
        "    print('頑張りましょう。')\n",
        "\n",
        "#8\n",
        "sample_id = 'aaa'\n",
        "sample_name = None\n",
        "if sample_id != '' and sample_name != '':\n",
        "    print('ＯＫです。')\n",
        "else:\n",
        "    print('未入力があります。')\n",
        "\n",
        "#9\n",
        "print(' {:010}'.format(152))\n",
        "\n",
        "#10\n",
        "from datetime import datetime \n",
        "\n",
        "today = datetime.now().strftime(\"%Y年%m月%d日H時i秒\") \n",
        "print(today)\n",
        "\n",
        "#11\n",
        "import re\n",
        "zip = '123-4567'\n",
        "if re.match(\"[0-9]{3}-[0-9]{4}\", zip):\n",
        "    print('OK')\n",
        "else:\n",
        "    print('NG')\n",
        "#12\n",
        "a = 1\n",
        "result = 'even' if a % 2 == 0 else 'odd'\n",
        "print(result)\n",
        "\n",
        "#13\n",
        "b: '0'\n",
        "\n",
        "#14\n",
        "a: print(1 + 1)\n",
        "d: print(int(True) + int(True))"
      ],
      "metadata": {
        "colab": {
          "base_uri": "https://localhost:8080/"
        },
        "id": "vwwqQyuG98d2",
        "outputId": "c9d21de1-f337-4048-9fa7-13de53de089d"
      },
      "execution_count": 51,
      "outputs": [
        {
          "output_type": "stream",
          "name": "stdout",
          "text": [
            "Hello  world!\n",
            "UenoVarista\n",
            "<class 'str'>\n",
            "5.5\n",
            "3\n",
            "0.10000\n",
            "よくできました。\n",
            "ＯＫです。\n",
            " 0000000152\n",
            "2022年12月04日H時i秒\n",
            "OK\n",
            "odd\n",
            "11\n"
          ]
        }
      ]
    }
  ]
}