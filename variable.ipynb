{
  "nbformat": 4,
  "nbformat_minor": 0,
  "metadata": {
    "colab": {
      "provenance": [],
      "authorship_tag": "ABX9TyNm/uTJgNWWqVnD3KP23NXb",
      "include_colab_link": true
    },
    "kernelspec": {
      "name": "python3",
      "display_name": "Python 3"
    },
    "language_info": {
      "name": "python"
    }
  },
  "cells": [
    {
      "cell_type": "markdown",
      "metadata": {
        "id": "view-in-github",
        "colab_type": "text"
      },
      "source": [
        "<a href=\"https://colab.research.google.com/github/umanari145/python_ai/blob/main/variable.ipynb\" target=\"_parent\"><img src=\"https://colab.research.google.com/assets/colab-badge.svg\" alt=\"Open In Colab\"/></a>"
      ]
    },
    {
      "cell_type": "markdown",
      "source": [
        "**変数について**"
      ],
      "metadata": {
        "id": "EmGjR2XR7Ljo"
      }
    },
    {
      "cell_type": "code",
      "source": [],
      "metadata": {
        "id": "tHt1KrOa8WKM"
      },
      "execution_count": null,
      "outputs": []
    },
    {
      "cell_type": "markdown",
      "source": [
        "加減乗除\n",
        "\n",
        "問題1-1 xに1を代入し、2を足した数を出力してください。\n",
        "問題1-2 xに5を代入し、3倍した数を出力してください。\n",
        "問題1-3 xに8を代入し、2を足した数を出力してください。"
      ],
      "metadata": {
        "id": "kAhZV7Ue8YuZ"
      }
    }
  ]
}