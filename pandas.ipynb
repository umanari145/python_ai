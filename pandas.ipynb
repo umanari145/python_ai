{
  "nbformat": 4,
  "nbformat_minor": 0,
  "metadata": {
    "colab": {
      "provenance": [],
      "authorship_tag": "ABX9TyO7WM6DFegqXWD6KEXoQdkM",
      "include_colab_link": true
    },
    "kernelspec": {
      "name": "python3",
      "display_name": "Python 3"
    },
    "language_info": {
      "name": "python"
    }
  },
  "cells": [
    {
      "cell_type": "markdown",
      "metadata": {
        "id": "view-in-github",
        "colab_type": "text"
      },
      "source": [
        "<a href=\"https://colab.research.google.com/github/umanari145/python_ai/blob/main/pandas.ipynb\" target=\"_parent\"><img src=\"https://colab.research.google.com/assets/colab-badge.svg\" alt=\"Open In Colab\"/></a>"
      ]
    },
    {
      "cell_type": "code",
      "execution_count": null,
      "metadata": {
        "id": "cu7QFnqTNMyL"
      },
      "outputs": [],
      "source": [
        "1 pandasを使ってsample.csvを読み込み、トップの5行、末尾5行を出力してください。\n",
        "2 describe関数を使って、基本的な統計量を算出してください。\n",
        "3 info関数を使って、データが欠損（Null）していない数」と「データ型」を確認して下さい。\n",
        "4 以下の統計量のうち、適切なものを選んでください。\n",
        "  ⅰ 平均値\n",
        "  ⅱ 中央値\n",
        "  ⅲ 第三子分位方\n",
        "  ⅳ 標準偏差\n",
        "\n",
        "  A・・データが平均値の周辺でどれくらいばらついているかの数値\n",
        "  B・・合計値÷数量の結果\n",
        "  C・・データを小さい順に並べたちょうど中央にあるデータのこと\n",
        "  D・・データのしたから75%地点の値\n",
        "5 sample.csvからsaleの列のみを抽出して下さい。\n",
        "6 sample.csvをsaleでソートして下さい。\n",
        "7 belogsとsaleの２列を抽出してください。\n",
        "8 「何らかのフラグ」をダミー変数かしてください。\n",
        "9 "
      ]
    },
    {
      "cell_type": "markdown",
      "source": [
        "sample.csv\n",
        "\n",
        "id | name | belongs | sale | なんらかのフラグ"
      ],
      "metadata": {
        "id": "WjwcSOJbRy69"
      }
    }
  ]
}